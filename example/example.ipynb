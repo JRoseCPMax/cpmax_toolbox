{
 "cells": [
  {
   "cell_type": "code",
   "execution_count": 5,
   "source": [
    "!pip install cpmaxToolbox"
   ],
   "outputs": [
    {
     "output_type": "stream",
     "name": "stdout",
     "text": [
      "Requirement already satisfied: cpmaxToolbox in c:\\python39\\lib\\site-packages (0.0.2)\n",
      "Requirement already satisfied: rich in c:\\python39\\lib\\site-packages (from cpmaxToolbox) (10.2.2)\n",
      "Requirement already satisfied: numpy in c:\\python39\\lib\\site-packages (from cpmaxToolbox) (1.20.3)\n",
      "Requirement already satisfied: pandas in c:\\python39\\lib\\site-packages (from cpmaxToolbox) (1.2.4)\n",
      "Requirement already satisfied: python-dateutil>=2.7.3 in c:\\users\\j.rose\\appdata\\roaming\\python\\python39\\site-packages (from pandas->cpmaxToolbox) (2.8.1)\n",
      "Requirement already satisfied: pytz>=2017.3 in c:\\python39\\lib\\site-packages (from pandas->cpmaxToolbox) (2021.1)\n",
      "Requirement already satisfied: six>=1.5 in c:\\users\\j.rose\\appdata\\roaming\\python\\python39\\site-packages (from python-dateutil>=2.7.3->pandas->cpmaxToolbox) (1.16.0)\n",
      "Requirement already satisfied: commonmark<0.10.0,>=0.9.0 in c:\\python39\\lib\\site-packages (from rich->cpmaxToolbox) (0.9.1)\n",
      "Requirement already satisfied: colorama<0.5.0,>=0.4.0 in c:\\users\\j.rose\\appdata\\roaming\\python\\python39\\site-packages (from rich->cpmaxToolbox) (0.4.4)\n",
      "Requirement already satisfied: pygments<3.0.0,>=2.6.0 in c:\\users\\j.rose\\appdata\\roaming\\python\\python39\\site-packages (from rich->cpmaxToolbox) (2.9.0)\n"
     ]
    },
    {
     "output_type": "stream",
     "name": "stderr",
     "text": [
      "WARNING: Ignoring invalid distribution -ip (c:\\python39\\lib\\site-packages)\n",
      "WARNING: Ignoring invalid distribution -ip (c:\\python39\\lib\\site-packages)\n",
      "WARNING: Ignoring invalid distribution -ip (c:\\python39\\lib\\site-packages)\n",
      "WARNING: Ignoring invalid distribution -ip (c:\\python39\\lib\\site-packages)\n",
      "WARNING: You are using pip version 21.1.2; however, version 21.2.4 is available.\n",
      "You should consider upgrading via the 'c:\\python39\\python.exe -m pip install --upgrade pip' command.\n"
     ]
    }
   ],
   "metadata": {}
  },
  {
   "cell_type": "code",
   "execution_count": 1,
   "source": [
    "import pandas as pd\r\n",
    "import cpmaxToolbox.FilterTool as ft\r\n",
    "import matplotlib.pyplot as plt\r\n",
    "import time\r\n",
    "%matplotlib qt\r\n",
    "\r\n",
    "import numpy as np"
   ],
   "outputs": [],
   "metadata": {}
  },
  {
   "cell_type": "code",
   "execution_count": 2,
   "source": [
    "datnam = \"Bremerhaven.csv\"\r\n",
    "fs = 512\r\n",
    "meas_id = 2"
   ],
   "outputs": [],
   "metadata": {}
  },
  {
   "cell_type": "code",
   "execution_count": 3,
   "source": [
    "print(\"read file\")\r\n",
    "t0 = time.time()\r\n",
    "df = pd.read_csv(datnam)\r\n",
    "df = df[df[\"Measurement_ID\"] == meas_id]\r\n",
    "df_dict = {\r\n",
    "    \"original\":df\r\n",
    "}\r\n",
    "print(f\"{time.time()-t0}s\")"
   ],
   "outputs": [
    {
     "output_type": "stream",
     "name": "stdout",
     "text": [
      "read file\n",
      "0.7042317390441895s\n"
     ]
    }
   ],
   "metadata": {}
  },
  {
   "cell_type": "code",
   "execution_count": 4,
   "source": [
    "ax_list = [\"AxialSignal\", \"RadialSignal\", \"TorsionalSignal\"]\r\n",
    "trig = \"RotationTrigger\"\r\n",
    "thres = 1000\r\n",
    "mean_diff = 20\r\n",
    "timing = {}\r\n",
    "\r\n",
    "t0 = time.time()\r\n",
    "df_capped = ft.cap_thres(df, ax_list, thres, False)\r\n",
    "df_dict[\"capped_thres\"] = df_capped\r\n",
    "timing[\"capped_thres\"] = time.time()-t0\r\n",
    "\r\n",
    "t0 = time.time()\r\n",
    "df_filt_thres = ft.filt_rot_thres(df, ax_list, trig, thres, False, True)\r\n",
    "df_dict[\"filtered_thres\"] = df_filt_thres\r\n",
    "tt = timing[\"filtered_thres\"] = time.time()-t0\r\n",
    "\r\n",
    "t0 = time.time()\r\n",
    "df_filt_mean = ft.filt_rot_mean(df, ax_list, trig, mean_diff, False, True)\r\n",
    "df_dict[\"filtered_mean\"] = df_filt_mean\r\n",
    "timing[\"filtered_mean\"] = time.time()-t0\r\n",
    "\r\n",
    "t0 = time.time()\r\n",
    "df_filt_both = ft.filt_rot_mean(df_filt_thres, ax_list, trig, mean_diff, False, True)\r\n",
    "df_dict[\"filtered_both\"] = df_filt_both\r\n",
    "timing[\"filtered_both\"] = time.time()-t0 + tt\r\n",
    "\r\n",
    "_=[print(f\"{k} - {t:.2f}s\") for k,t in timing.items()]\r\n"
   ],
   "outputs": [
    {
     "output_type": "display_data",
     "data": {
      "application/vnd.jupyter.widget-view+json": {
       "version_major": 2,
       "version_minor": 0,
       "model_id": "b0bd1fca7ebf4cd68b4b87443e8b720e"
      },
      "text/plain": [
       "Output()"
      ]
     },
     "metadata": {}
    },
    {
     "output_type": "display_data",
     "data": {
      "application/vnd.jupyter.widget-view+json": {
       "version_major": 2,
       "version_minor": 0,
       "model_id": "5e6f8d3b9ae34c9fbb4574a94795e789"
      },
      "text/plain": [
       "Output()"
      ]
     },
     "metadata": {}
    },
    {
     "output_type": "display_data",
     "data": {
      "application/vnd.jupyter.widget-view+json": {
       "version_major": 2,
       "version_minor": 0,
       "model_id": "f38434fba5074c7cab4c00ec98be843c"
      },
      "text/plain": [
       "Output()"
      ]
     },
     "metadata": {}
    },
    {
     "output_type": "stream",
     "name": "stdout",
     "text": [
      "capped_thres - 0.08s\n",
      "filtered_thres - 0.25s\n",
      "filtered_mean - 0.20s\n",
      "filtered_both - 0.42s\n"
     ]
    }
   ],
   "metadata": {}
  },
  {
   "cell_type": "code",
   "execution_count": 5,
   "source": [
    "fig, axs = plt.subplots(2, len(df_dict), sharex=True, sharey=\"row\")\r\n",
    "plt.subplots_adjust(top=0.962, bottom=0.039, left=0.042, right=0.992, hspace=0.098, wspace=0.051)\r\n",
    "\r\n",
    "for i, (k, dfi) in enumerate(df_dict.items()):\r\n",
    "    print(i, k)\r\n",
    "    axs[0,i].title.set_text(f'Radial - {k} - {100*len(dfi)/len(df):.2f}%')\r\n",
    "    axs[0,i].plot(dfi.index/fs, thres*dfi.RotationTrigger, linewidth=0.5)\r\n",
    "    axs[0,i].plot(dfi.index/fs, dfi.RadialSignal, linewidth=0.5)\r\n",
    "    axs[0,i].grid(True)\r\n",
    "\r\n",
    "    axs[1,i].title.set_text(f'Axial - {k} - {100*len(dfi)/len(df):.2f}%')\r\n",
    "    axs[1,i].plot(dfi.index/fs, thres*dfi.RotationTrigger, linewidth=0.5)\r\n",
    "    axs[1,i].plot(dfi.index/fs, df_dict[k].AxialSignal, linewidth=0.5)\r\n",
    "    axs[1,i].grid(True)\r\n",
    "axs[0,0].axis(xmin=df.index.min()/fs, xmax=df.index.max()/fs)\r\n",
    "\r\n",
    "figManager = plt.get_current_fig_manager()\r\n",
    "figManager.window.showMaximized()"
   ],
   "outputs": [
    {
     "output_type": "stream",
     "name": "stdout",
     "text": [
      "0 original\n",
      "1 capped_thres\n",
      "2 filtered_thres\n",
      "3 filtered_mean\n",
      "4 filtered_both\n"
     ]
    }
   ],
   "metadata": {}
  },
  {
   "cell_type": "code",
   "execution_count": null,
   "source": [
    "axis_dict = {\r\n",
    "    \"AxialSignal\": \"Axial\", \r\n",
    "    \"RadialSignal\": \"Radial\", \r\n",
    "    \"TorsionalSignal\": \"Torsional\", \r\n",
    "    \"RotationTrigger\": \"Trigger\"\r\n",
    "    }\r\n",
    "fnam = datnam.replace(\".csv\", f\"_{meas_id}.txt\")\r\n",
    "ft.to_vibA_import(df_dict[\"filtered_both\"], fnam, fs, axis_dict, 1)"
   ],
   "outputs": [],
   "metadata": {}
  }
 ],
 "metadata": {
  "orig_nbformat": 4,
  "language_info": {
   "name": "python",
   "version": "3.9.5",
   "mimetype": "text/x-python",
   "codemirror_mode": {
    "name": "ipython",
    "version": 3
   },
   "pygments_lexer": "ipython3",
   "nbconvert_exporter": "python",
   "file_extension": ".py"
  },
  "kernelspec": {
   "name": "python3",
   "display_name": "Python 3.9.5 64-bit"
  },
  "interpreter": {
   "hash": "63fd5069d213b44bf678585dea6b12cceca9941eaf7f819626cde1f2670de90d"
  }
 },
 "nbformat": 4,
 "nbformat_minor": 2
}