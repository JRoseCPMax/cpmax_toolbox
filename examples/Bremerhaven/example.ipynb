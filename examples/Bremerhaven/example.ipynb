{
 "cells": [
  {
   "cell_type": "code",
   "execution_count": 1,
   "metadata": {},
   "outputs": [
    {
     "name": "stdout",
     "output_type": "stream",
     "text": [
      "Found existing installation: cpmaxToolbox 0.1.2.61853774"
     ]
    },
    {
     "name": "stderr",
     "output_type": "stream",
     "text": [
      "WARNING: Ignoring invalid distribution -ip (c:\\python39\\lib\\site-packages)\n",
      "WARNING: Ignoring invalid distribution -ip (c:\\python39\\lib\\site-packages)\n"
     ]
    },
    {
     "name": "stdout",
     "output_type": "stream",
     "text": [
      "\n",
      "Uninstalling cpmaxToolbox-0.1.2.61853774:\n",
      "  Successfully uninstalled cpmaxToolbox-0.1.2.61853774\n",
      "Looking in indexes: https://test.pypi.org/simple/"
     ]
    },
    {
     "name": "stderr",
     "output_type": "stream",
     "text": [
      "WARNING: Ignoring invalid distribution -ip (c:\\python39\\lib\\site-packages)\n",
      "WARNING: Ignoring invalid distribution -ip (c:\\python39\\lib\\site-packages)\n",
      "WARNING: Ignoring invalid distribution -ip (c:\\python39\\lib\\site-packages)\n",
      "WARNING: Ignoring invalid distribution -ip (c:\\python39\\lib\\site-packages)\n",
      "WARNING: Ignoring invalid distribution -ip (c:\\python39\\lib\\site-packages)\n"
     ]
    },
    {
     "name": "stdout",
     "output_type": "stream",
     "text": [
      "\n",
      "Collecting cpmaxToolbox\n",
      "  Downloading https://test-files.pythonhosted.org/packages/70/df/6686970a376482a85641a9e37f55ba09339f4c49a21e1951c45843c05339/cpmaxToolbox-0.1.2.61853774-py3-none-any.whl (18 kB)\n",
      "Requirement already satisfied: rich in c:\\python39\\lib\\site-packages (from cpmaxToolbox) (10.2.2)\n",
      "Requirement already satisfied: numpy in c:\\python39\\lib\\site-packages (from cpmaxToolbox) (1.20.3)\n",
      "Requirement already satisfied: pandas in c:\\python39\\lib\\site-packages (from cpmaxToolbox) (1.2.4)\n",
      "Requirement already satisfied: pytz>=2017.3 in c:\\python39\\lib\\site-packages (from pandas->cpmaxToolbox) (2021.1)\n",
      "Requirement already satisfied: python-dateutil>=2.7.3 in c:\\users\\j.rose\\appdata\\roaming\\python\\python39\\site-packages (from pandas->cpmaxToolbox) (2.8.1)\n",
      "Requirement already satisfied: six>=1.5 in c:\\users\\j.rose\\appdata\\roaming\\python\\python39\\site-packages (from python-dateutil>=2.7.3->pandas->cpmaxToolbox) (1.16.0)\n",
      "Requirement already satisfied: commonmark<0.10.0,>=0.9.0 in c:\\python39\\lib\\site-packages (from rich->cpmaxToolbox) (0.9.1)\n",
      "Requirement already satisfied: pygments<3.0.0,>=2.6.0 in c:\\users\\j.rose\\appdata\\roaming\\python\\python39\\site-packages (from rich->cpmaxToolbox) (2.9.0)\n",
      "Requirement already satisfied: colorama<0.5.0,>=0.4.0 in c:\\users\\j.rose\\appdata\\roaming\\python\\python39\\site-packages (from rich->cpmaxToolbox) (0.4.4)\n",
      "Installing collected packages: cpmaxToolbox\n",
      "Successfully installed cpmaxToolbox-0.1.2.61853774\n"
     ]
    }
   ],
   "source": [
    "!pip uninstall -y cpmaxToolbox\n",
    "!pip install -i https://test.pypi.org/simple/ cpmaxToolbox"
   ]
  },
  {
   "cell_type": "code",
   "execution_count": 9,
   "metadata": {},
   "outputs": [],
   "source": [
    "import pandas as pd\n",
    "import cpmaxToolbox.FilterTool as ft\n",
    "import matplotlib.pyplot as plt\n",
    "import time\n",
    "%matplotlib qt\n",
    "\n",
    "import numpy as np"
   ]
  },
  {
   "cell_type": "code",
   "execution_count": 10,
   "metadata": {},
   "outputs": [],
   "source": [
    "datnam = \"Bremerhaven.csv\"\n",
    "fs = 512\n",
    "meas_id = 2"
   ]
  },
  {
   "cell_type": "code",
   "execution_count": 11,
   "metadata": {},
   "outputs": [
    {
     "name": "stdout",
     "output_type": "stream",
     "text": [
      "read file\n",
      "0.6367232799530029s\n"
     ]
    }
   ],
   "source": [
    "print(\"read file\")\n",
    "t0 = time.time()\n",
    "\n",
    "df = pd.read_csv(datnam)\n",
    "df = df[df[\"Measurement_ID\"] == meas_id]\n",
    "df_dict = {\n",
    "    \"original\":df\n",
    "}\n",
    "print(f\"{time.time()-t0}s\")"
   ]
  },
  {
   "cell_type": "code",
   "execution_count": 12,
   "metadata": {},
   "outputs": [
    {
     "data": {
      "application/vnd.jupyter.widget-view+json": {
       "model_id": "45d790d8ca7847b099131c18a431a70d",
       "version_major": 2,
       "version_minor": 0
      },
      "text/plain": [
       "Output()"
      ]
     },
     "metadata": {},
     "output_type": "display_data"
    },
    {
     "data": {
      "application/vnd.jupyter.widget-view+json": {
       "model_id": "fef0d449954548368f0093a22af2d6df",
       "version_major": 2,
       "version_minor": 0
      },
      "text/plain": [
       "Output()"
      ]
     },
     "metadata": {},
     "output_type": "display_data"
    },
    {
     "data": {
      "application/vnd.jupyter.widget-view+json": {
       "model_id": "5de76472a24e45d3b4357fbc64bcf6ff",
       "version_major": 2,
       "version_minor": 0
      },
      "text/plain": [
       "Output()"
      ]
     },
     "metadata": {},
     "output_type": "display_data"
    },
    {
     "name": "stdout",
     "output_type": "stream",
     "text": [
      "capped_thres - 0.10s\n",
      "filtered_thres - 0.14s\n",
      "filtered_mean - 0.18s\n",
      "filtered_both - 0.30s\n"
     ]
    }
   ],
   "source": [
    "ax_list = [\"AxialSignal\", \"RadialSignal\", \"TorsionalSignal\"]\n",
    "trig = \"RotationTrigger\"\n",
    "thres = 1000\n",
    "mean_diff = 20\n",
    "timing = {}\n",
    "\n",
    "t0 = time.time()\n",
    "df_capped = ft.cap_thres(df, ax_list, thres, False)\n",
    "df_dict[\"capped_thres\"] = df_capped\n",
    "timing[\"capped_thres\"] = time.time()-t0\n",
    "\n",
    "t0 = time.time()\n",
    "df_filt_thres = ft.filt_rot_thres(df, ax_list, trig, thres, False, True)\n",
    "df_dict[\"filtered_thres\"] = df_filt_thres\n",
    "tt = timing[\"filtered_thres\"] = time.time()-t0\n",
    "\n",
    "t0 = time.time()\n",
    "df_filt_mean = ft.filt_rot_mean(df, ax_list, trig, mean_diff, False, True)\n",
    "df_dict[\"filtered_mean\"] = df_filt_mean\n",
    "timing[\"filtered_mean\"] = time.time()-t0\n",
    "\n",
    "t0 = time.time()\n",
    "df_filt_both = ft.filt_rot_mean(df_filt_thres, ax_list, trig, mean_diff, False, True)\n",
    "df_dict[\"filtered_both\"] = df_filt_both\n",
    "timing[\"filtered_both\"] = time.time()-t0 + tt\n",
    "\n",
    "_=[print(f\"{k} - {t:.2f}s\") for k,t in timing.items()]\n"
   ]
  },
  {
   "cell_type": "code",
   "execution_count": 13,
   "metadata": {},
   "outputs": [
    {
     "name": "stdout",
     "output_type": "stream",
     "text": [
      "0 original\n",
      "1 capped_thres\n",
      "2 filtered_thres\n",
      "3 filtered_mean\n",
      "4 filtered_both\n"
     ]
    }
   ],
   "source": [
    "fig, axs = plt.subplots(2, len(df_dict), sharex=True, sharey=\"row\")\n",
    "plt.subplots_adjust(top=0.962, bottom=0.039, left=0.042, right=0.992, hspace=0.098, wspace=0.051)\n",
    "\n",
    "for i, (k, dfi) in enumerate(df_dict.items()):\n",
    "    print(i, k)\n",
    "    axs[0,i].title.set_text(f'Radial - {k} - {100*len(dfi)/len(df):.2f}%')\n",
    "    axs[0,i].plot(dfi.index/fs, thres*dfi.RotationTrigger, linewidth=0.5)\n",
    "    axs[0,i].plot(dfi.index/fs, dfi.RadialSignal, linewidth=0.5)\n",
    "    axs[0,i].grid(True)\n",
    "\n",
    "    axs[1,i].title.set_text(f'Axial - {k} - {100*len(dfi)/len(df):.2f}%')\n",
    "    axs[1,i].plot(dfi.index/fs, thres*dfi.RotationTrigger, linewidth=0.5)\n",
    "    axs[1,i].plot(dfi.index/fs, df_dict[k].AxialSignal, linewidth=0.5)\n",
    "    axs[1,i].grid(True)\n",
    "axs[0,0].axis(xmin=df.index.min()/fs, xmax=df.index.max()/fs)\n",
    "\n",
    "figManager = plt.get_current_fig_manager()\n",
    "figManager.window.showMaximized()"
   ]
  },
  {
   "cell_type": "code",
   "execution_count": 14,
   "metadata": {},
   "outputs": [],
   "source": [
    "axis_dict = {\n",
    "    \"AxialSignal\": \"Axial\", \n",
    "    \"RadialSignal\": \"Radial\", \n",
    "    \"TorsionalSignal\": \"Torsional\", \n",
    "    \"RotationTrigger\": \"Trigger\"\n",
    "    }\n",
    "fnam = datnam.replace(\".csv\", f\"_{meas_id}.txt\")\n",
    "ft.to_vibA_import(df_dict[\"filtered_both\"], fnam, fs, axis_dict, 1)"
   ]
  }
 ],
 "metadata": {
  "interpreter": {
   "hash": "63fd5069d213b44bf678585dea6b12cceca9941eaf7f819626cde1f2670de90d"
  },
  "kernelspec": {
   "display_name": "Python 3.9.5 64-bit",
   "name": "python3"
  },
  "language_info": {
   "codemirror_mode": {
    "name": "ipython",
    "version": 3
   },
   "file_extension": ".py",
   "mimetype": "text/x-python",
   "name": "python",
   "nbconvert_exporter": "python",
   "pygments_lexer": "ipython3",
   "version": "3.9.5"
  },
  "orig_nbformat": 4
 },
 "nbformat": 4,
 "nbformat_minor": 2
}
